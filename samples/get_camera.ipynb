{
 "cells": [
  {
   "cell_type": "code",
   "execution_count": 3,
   "metadata": {},
   "outputs": [],
   "source": [
    "import cv2\n",
    "import numpy as np#添加模块和矩阵模块\n",
    "cap=cv2.VideoCapture(0)\n",
    "#打开摄像头，若打开本地视频，同opencv一样，只需将０换成(\"×××.avi\")\n",
    "while(1):    # get a frame   \n",
    "    ret, frame = cap.read()    # show a frame   \n",
    "    cv2.imshow(\"capture\", frame)   \n",
    "    if cv2.waitKey(1) & 0xFF == ord('q'):        \n",
    "        break\n",
    "cap.release()\n",
    "cv2.destroyAllWindows()\n",
    "\n"
   ]
  },
  {
   "cell_type": "code",
   "execution_count": null,
   "metadata": {},
   "outputs": [],
   "source": []
  }
 ],
 "metadata": {
  "kernelspec": {
   "display_name": "Python 3",
   "language": "python",
   "name": "python3"
  },
  "language_info": {
   "codemirror_mode": {
    "name": "ipython",
    "version": 3
   },
   "file_extension": ".py",
   "mimetype": "text/x-python",
   "name": "python",
   "nbconvert_exporter": "python",
   "pygments_lexer": "ipython3",
   "version": "3.6.5"
  }
 },
 "nbformat": 4,
 "nbformat_minor": 2
}
